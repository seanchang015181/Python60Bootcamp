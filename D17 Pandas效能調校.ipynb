{
  "nbformat": 4,
  "nbformat_minor": 0,
  "metadata": {
    "colab": {
      "name": "D17 Pandas效能調校.ipynb",
      "provenance": [],
      "collapsed_sections": []
    },
    "kernelspec": {
      "name": "python3",
      "display_name": "Python 3"
    }
  },
  "cells": [
    {
      "cell_type": "markdown",
      "metadata": {
        "id": "WpY62-EDcs8F"
      },
      "source": [
        "1. **在速度較慢的時候，可以先從哪邊開始檢查？**"
      ]
    },
    {
      "cell_type": "markdown",
      "metadata": {
        "id": "mzv8Yhr8bNra"
      },
      "source": [
        "讀取資料型態選最快速的\r\n",
        "\r\n",
        "多使用內建函數\r\n",
        "\r\n",
        "向量化的資料處理"
      ]
    },
    {
      "cell_type": "markdown",
      "metadata": {
        "id": "by9P9MgqbN09"
      },
      "source": [
        "2. **資料過大時應採取什麼方式讓記憶體占用量下降？**"
      ]
    },
    {
      "cell_type": "markdown",
      "metadata": {
        "id": "9kCQQt24bN_y"
      },
      "source": [
        "將欄位的型態降級\r\n",
        "\r\n",
        "整數型態 int 改成 uint \r\n",
        "\r\n",
        "浮點數型態 float64 改成 float32\r\n",
        "\r\n"
      ]
    }
  ]
}