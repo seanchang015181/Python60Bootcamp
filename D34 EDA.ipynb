{
  "nbformat": 4,
  "nbformat_minor": 0,
  "metadata": {
    "colab": {
      "name": "D34 EDA.ipynb",
      "provenance": [],
      "collapsed_sections": []
    },
    "kernelspec": {
      "display_name": "Python 3",
      "language": "python",
      "name": "python3"
    },
    "language_info": {
      "codemirror_mode": {
        "name": "ipython",
        "version": 3
      },
      "file_extension": ".py",
      "mimetype": "text/x-python",
      "name": "python",
      "nbconvert_exporter": "python",
      "pygments_lexer": "ipython3",
      "version": "3.6.1"
    }
  },
  "cells": [
    {
      "cell_type": "markdown",
      "metadata": {
        "id": "cwieRg6Dspq-"
      },
      "source": [
        "## 作業:\n",
        "今天課程中以一個案例，說明資料分析的流程與探索性分析，是否對於課程中一開始的問題，更有想法了?!    \n",
        "Q1: 哪一個問題不適合用資料科學解決?   \n",
        "Q2: 以你的角度來分析，為什麼這樣的問題，較不適合用資料來解決?    \n",
        "將答案寫在論壇中，大家一起互相討論激盪。   \n",
        "![](作業圖檔.PNG)"
      ]
    },
    {
      "cell_type": "markdown",
      "metadata": {
        "id": "FJ-KVAMEs8uQ"
      },
      "source": [
        "Q1: 挑選 Mr./Ms. Right\r\n",
        "\r\n",
        "Q2: 比較難轉換成定性 or 定量資料"
      ]
    }
  ]
}